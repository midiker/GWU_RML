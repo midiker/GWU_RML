{
 "cells": [
  {
   "cell_type": "markdown",
   "metadata": {},
   "source": [
    "### License"
   ]
  },
  {
   "cell_type": "markdown",
   "metadata": {},
   "source": [
    "Copyright 2021 Patrick Hall (jphall@gwu.edu), Melis Diken(midiken@gwu.edu)\n",
    "\n",
    "Licensed under the Apache License, Version 2.0 (the \"License\"); you may not use this file except in compliance with the License. You may obtain a copy of the License at\n",
    "\n",
    "http://www.apache.org/licenses/LICENSE-2.0\n",
    "\n",
    "Unless required by applicable law or agreed to in writing, software distributed under the License is distributed on an \"AS IS\" BASIS, WITHOUT WARRANTIES OR CONDITIONS OF ANY KIND, either express or implied. See the License for the specific language governing permissions and limitations under the License.\n",
    "\n",
    "DISCLAIMER: This notebook is not legal or compliance advice."
   ]
  },
  {
   "cell_type": "markdown",
   "metadata": {},
   "source": [
    "## Assignment 4"
   ]
  },
  {
   "cell_type": "code",
   "execution_count": 1,
   "metadata": {
    "scrolled": true
   },
   "outputs": [
    {
     "name": "stdout",
     "output_type": "stream",
     "text": [
      "Checking whether there is an H2O instance running at http://localhost:54321 ..... not found.\n",
      "Attempting to start a local H2O server...\n",
      "  Java Version: java version \"1.8.0_25\"; Java(TM) SE Runtime Environment (build 1.8.0_25-b17); Java HotSpot(TM) 64-Bit Server VM (build 25.25-b02, mixed mode)\n",
      "  Starting server from /Users/melisdiken/opt/anaconda3/envs/myenv2/lib/python3.6/site-packages/h2o/backend/bin/h2o.jar\n",
      "  Ice root: /var/folders/h6/tg80141j4ys8tw_5g6p9b7vc0000gn/T/tmpfu5da5r6\n",
      "  JVM stdout: /var/folders/h6/tg80141j4ys8tw_5g6p9b7vc0000gn/T/tmpfu5da5r6/h2o_melisdiken_started_from_python.out\n",
      "  JVM stderr: /var/folders/h6/tg80141j4ys8tw_5g6p9b7vc0000gn/T/tmpfu5da5r6/h2o_melisdiken_started_from_python.err\n",
      "  Server is running at http://127.0.0.1:54321\n",
      "Connecting to H2O server at http://127.0.0.1:54321 ... successful.\n"
     ]
    },
    {
     "data": {
      "text/html": [
       "<div style=\"overflow:auto\"><table style=\"width:50%\"><tr><td>H2O_cluster_uptime:</td>\n",
       "<td>03 secs</td></tr>\n",
       "<tr><td>H2O_cluster_timezone:</td>\n",
       "<td>America/New_York</td></tr>\n",
       "<tr><td>H2O_data_parsing_timezone:</td>\n",
       "<td>UTC</td></tr>\n",
       "<tr><td>H2O_cluster_version:</td>\n",
       "<td>3.36.1.1</td></tr>\n",
       "<tr><td>H2O_cluster_version_age:</td>\n",
       "<td>2 months and 12 days </td></tr>\n",
       "<tr><td>H2O_cluster_name:</td>\n",
       "<td>H2O_from_python_melisdiken_8qffs6</td></tr>\n",
       "<tr><td>H2O_cluster_total_nodes:</td>\n",
       "<td>1</td></tr>\n",
       "<tr><td>H2O_cluster_free_memory:</td>\n",
       "<td>1.778 Gb</td></tr>\n",
       "<tr><td>H2O_cluster_total_cores:</td>\n",
       "<td>8</td></tr>\n",
       "<tr><td>H2O_cluster_allowed_cores:</td>\n",
       "<td>8</td></tr>\n",
       "<tr><td>H2O_cluster_status:</td>\n",
       "<td>locked, healthy</td></tr>\n",
       "<tr><td>H2O_connection_url:</td>\n",
       "<td>http://127.0.0.1:54321</td></tr>\n",
       "<tr><td>H2O_connection_proxy:</td>\n",
       "<td>{\"http\": null, \"https\": null}</td></tr>\n",
       "<tr><td>H2O_internal_security:</td>\n",
       "<td>False</td></tr>\n",
       "<tr><td>Python_version:</td>\n",
       "<td>3.6.13 final</td></tr></table></div>"
      ],
      "text/plain": [
       "--------------------------  ---------------------------------\n",
       "H2O_cluster_uptime:         03 secs\n",
       "H2O_cluster_timezone:       America/New_York\n",
       "H2O_data_parsing_timezone:  UTC\n",
       "H2O_cluster_version:        3.36.1.1\n",
       "H2O_cluster_version_age:    2 months and 12 days\n",
       "H2O_cluster_name:           H2O_from_python_melisdiken_8qffs6\n",
       "H2O_cluster_total_nodes:    1\n",
       "H2O_cluster_free_memory:    1.778 Gb\n",
       "H2O_cluster_total_cores:    8\n",
       "H2O_cluster_allowed_cores:  8\n",
       "H2O_cluster_status:         locked, healthy\n",
       "H2O_connection_url:         http://127.0.0.1:54321\n",
       "H2O_connection_proxy:       {\"http\": null, \"https\": null}\n",
       "H2O_internal_security:      False\n",
       "Python_version:             3.6.13 final\n",
       "--------------------------  ---------------------------------"
      ]
     },
     "metadata": {},
     "output_type": "display_data"
    }
   ],
   "source": [
    "import h2o                                                        # h2o python library\n",
    "from h2o.backend import H2OLocalServer                            # for model extraction\n",
    "from h2o.estimators.random_forest import H2ORandomForestEstimator # for decision tree in model extraction\n",
    "from interpret.glassbox import ExplainableBoostingClassifier      # interpret ebm class\n",
    "from interpret.perf import ROC                                    # ROC measure for ebm\n",
    "import matplotlib.pyplot as plt                                   # for plots\n",
    "import numpy as np                                                # for basic array manipulation                            \n",
    "import pandas as pd                                               # for dataframe manipulation\n",
    "import subprocess                                                 # to run external processes for model extraction\n",
    "import time                                                       # for timers\n",
    "\n",
    "# enables display of images in notebook\n",
    "from IPython.display import Image\n",
    "from IPython.display import display\n",
    "\n",
    "# set numpy random seed for better reproducibility\n",
    "SEED = 12345 \n",
    "np.random.seed(SEED)\n",
    "\n",
    "# set number of threads\n",
    "NTHREAD = 4\n",
    "\n",
    "h2o.init(max_mem_size='2G')      # start h2o\n",
    "h2o.remove_all()                 # remove any existing data structures from h2o memory\n",
    "h2o.no_progress()                # turn off h2o progress indicators  "
   ]
  },
  {
   "cell_type": "markdown",
   "metadata": {},
   "source": [
    "### Define utility functions"
   ]
  },
  {
   "cell_type": "markdown",
   "metadata": {},
   "source": [
    "#### Utility function that trains a cross-validated decision tree"
   ]
  },
  {
   "cell_type": "code",
   "execution_count": 2,
   "metadata": {},
   "outputs": [],
   "source": [
    "def get_cv_dt(x_names, y_name, train, model_id, seed_, title, valid=None):\n",
    "\n",
    "    \"\"\" Utility function to train decision trees.\n",
    "    Args:\n",
    "        x_names: Names of input variables as a list.\n",
    "        y_name: Name of target variable.\n",
    "        train: Pandas DataFrame containing x_names and y_name on which to train\n",
    "               decision tree.\n",
    "        model_id: h2o model identifier.\n",
    "        seed_: Random seed for improved reproducibility.\n",
    "        title: Title for generated plot of tree.\n",
    "        valid: Optional validation data.\n",
    "    Returns:\n",
    "        Model as h2o model object.\n",
    "    \"\"\"\n",
    "\n",
    "    # initialize single tree model\n",
    "    tree = H2ORandomForestEstimator(ntrees=1,  # use only one tree\n",
    "                                    sample_rate=1,  # use all rows in that tree\n",
    "                                    mtries=-2,  # use all columns in that tree's split search\n",
    "                                    max_depth=4,  # shallow trees are easier to understand\n",
    "                                    seed=seed_,  # set random seed for reproducibility\n",
    "                                    nfolds=3,  # cross-validation for stability and ...\n",
    "                                    # only way to get metrics for 1 tree in h2o\n",
    "                                    model_id=model_id)  # gives MOJO artifact a recognizable name\n",
    "\n",
    "    # train single tree model\n",
    "    if valid is not None:\n",
    "        tree.train(x=x_names, y=y_name, training_frame=h2o.H2OFrame(train), validation_frame=h2o.H2OFrame(valid))\n",
    "    else:\n",
    "        tree.train(x=x_names, y=y_name, training_frame=h2o.H2OFrame(train))\n",
    "\n",
    "    # persist MOJO (compiled Java representation of trained model)\n",
    "    # from which to generate plot of tree\n",
    "    mojo_path = tree.download_mojo(path='.')\n",
    "    print('Generated MOJO path:\\n', mojo_path)\n",
    "\n",
    "    # generate graphviz file and then PNG\n",
    "    get_gv(title, model_id, mojo_path)\n",
    "    get_png(model_id)\n",
    "\n",
    "    return tree"
   ]
  },
  {
   "cell_type": "markdown",
   "metadata": {},
   "source": [
    "#### Utility function that converts h2o MOJO into graphviz file"
   ]
  },
  {
   "cell_type": "code",
   "execution_count": 3,
   "metadata": {},
   "outputs": [],
   "source": [
    "def get_gv(title, model_id, mojo_path):\n",
    "\n",
    "    \"\"\" Utility function to generate graphviz dot file from h2o MOJO using\n",
    "        a subprocess.\n",
    "       \n",
    "    Args:\n",
    "        title: Title for displayed decision tree.\n",
    "        model_id: h2o model identifier.\n",
    "        mojo_path: Path to saved model MOJO (Java scoring artifact);\n",
    "                   generated by train_cv_dt function above.\n",
    "    \"\"\"\n",
    "\n",
    "    # locate h2o jar\n",
    "    hs = H2OLocalServer()\n",
    "    h2o_jar_path = hs._find_jar()\n",
    "    print('Discovered H2O jar path:\\n', h2o_jar_path)\n",
    "\n",
    "    # construct command line call to generate graphviz version of\n",
    "    # tree, see for more information:\n",
    "    # http://docs.h2o.ai/h2o/latest-stable/h2o-genmodel/javadoc/index.html\n",
    "    gv_file_name = model_id + '.gv'\n",
    "    # if the line below fails for you, try instead:\n",
    "    #gv_args = str('-cp ' + h2o_jar_path +\n",
    "    #              ' hex.genmodel.tools.PrintMojo --tree 0 -i \"'\n",
    "    #              + mojo_path + '\" -o').split()\n",
    "    gv_args = str('-cp ' + h2o_jar_path +\n",
    "                  ' hex.genmodel.tools.PrintMojo --tree 0 -i '\n",
    "                  + mojo_path + ' -o').split()\n",
    "    gv_args.insert(0, 'java')\n",
    "    gv_args.append(gv_file_name)\n",
    "    if title is not None:\n",
    "        gv_args = gv_args + ['--title', '\"' + str(title) + '\"']\n",
    "\n",
    "    # call constructed command\n",
    "    print()\n",
    "    print('Calling external process ...')\n",
    "    print(' '.join(gv_args))\n",
    "    # if the line below is failing for you, try instead:\n",
    "    # _ = subprocess.call(gv_args, shell=True)\n",
    "    _ = subprocess.call(gv_args)"
   ]
  },
  {
   "cell_type": "markdown",
   "metadata": {},
   "source": [
    "#### Utility function that converts graphviz file into PNG"
   ]
  },
  {
   "cell_type": "code",
   "execution_count": 4,
   "metadata": {},
   "outputs": [],
   "source": [
    "def get_png(model_id):\n",
    "\n",
    "    \"\"\" Utility function to generate PNGs from .dots using a subprocess.\n",
    "    Arg:\n",
    "        model_id: h2o model identifier.\n",
    "    \"\"\"\n",
    "\n",
    "    gv_file_name = model_id + '.gv'\n",
    "\n",
    "    # construct call to generate PNG from\n",
    "    # graphviz representation of the tree\n",
    "    png_file_name = model_id + '.png'\n",
    "    png_args = str('dot -Tpng ' + gv_file_name + ' -o ' + png_file_name)\n",
    "    png_args = png_args.split()\n",
    "\n",
    "    # call\n",
    "    print('Calling external process ...')\n",
    "    print(' '.join(png_args))\n",
    "    # if the line below is failing for you, try instead:\n",
    "    # _ = subprocess.call(png_args, shell=True)\n",
    "    _ = subprocess.call(png_args)"
   ]
  },
  {
   "cell_type": "markdown",
   "metadata": {},
   "source": [
    "#### Start global timer"
   ]
  },
  {
   "cell_type": "code",
   "execution_count": 5,
   "metadata": {},
   "outputs": [],
   "source": [
    "tic = time.time()"
   ]
  },
  {
   "cell_type": "markdown",
   "metadata": {},
   "source": [
    "#### Import data"
   ]
  },
  {
   "cell_type": "code",
   "execution_count": 6,
   "metadata": {},
   "outputs": [],
   "source": [
    "data = pd.read_csv('hmda_train_preprocessed.csv')"
   ]
  },
  {
   "cell_type": "markdown",
   "metadata": {},
   "source": [
    "#### Assign basic modeling roles"
   ]
  },
  {
   "cell_type": "code",
   "execution_count": 7,
   "metadata": {},
   "outputs": [],
   "source": [
    "y_name = 'high_priced'"
   ]
  },
  {
   "cell_type": "markdown",
   "metadata": {},
   "source": [
    "### Fit interpretable models"
   ]
  },
  {
   "cell_type": "markdown",
   "metadata": {},
   "source": [
    "#### Split data into train and validation partitions"
   ]
  },
  {
   "cell_type": "code",
   "execution_count": 8,
   "metadata": {},
   "outputs": [
    {
     "name": "stdout",
     "output_type": "stream",
     "text": [
      "Train data rows = 112253, columns = 23\n",
      "Validation data rows = 48085, columns = 23\n"
     ]
    }
   ],
   "source": [
    "np.random.seed(SEED) # preserve exact reproducibility for this cell\n",
    "\n",
    "split_ratio = 0.7 # 70%/30% train/test split\n",
    "\n",
    "# execute split\n",
    "split = np.random.rand(len(data)) < split_ratio\n",
    "train = data[split]\n",
    "valid = data[~split]\n",
    "\n",
    "# summarize split\n",
    "print('Train data rows = %d, columns = %d' % (train.shape[0], train.shape[1]))\n",
    "print('Validation data rows = %d, columns = %d' % (valid.shape[0], valid.shape[1]))\n",
    "\n",
    "# benchmark - Train data rows = 112253, columns = 23\n",
    "# benchmark - Validation data rows = 48085, columns = 23"
   ]
  },
  {
   "cell_type": "markdown",
   "metadata": {},
   "source": [
    "### Explainable Boosting Machine"
   ]
  },
  {
   "cell_type": "markdown",
   "metadata": {},
   "source": [
    "#### Retrain most accurate model above 0.8 AIR to act as blackbox prediction API¶"
   ]
  },
  {
   "cell_type": "code",
   "execution_count": 9,
   "metadata": {},
   "outputs": [
    {
     "name": "stdout",
     "output_type": "stream",
     "text": [
      "Remediated EBM retrained with AUC: 0.7852.\n"
     ]
    }
   ],
   "source": [
    "# params dict for remediated models\n",
    "rem_params = {'max_bins': 512,\n",
    "              'max_interaction_bins': 16,\n",
    "              'interactions': 10,\n",
    "              'outer_bags': 4,\n",
    "              'inner_bags': 0,\n",
    "              'learning_rate': 0.001,\n",
    "              'validation_size': 0.25,\n",
    "              'min_samples_leaf': 5,\n",
    "              'max_leaves': 5,\n",
    "              'early_stopping_rounds': 100.0,\n",
    "              'n_jobs': NTHREAD, \n",
    "              'random_state': SEED}\n",
    "\n",
    "rem_x_names = ['property_value_std',\n",
    "               'no_intro_rate_period_std',\n",
    "               'loan_amount_std',\n",
    "               'income_std',\n",
    "               'conforming',\n",
    "               'intro_rate_period_std',\n",
    "               'debt_to_income_ratio_std',\n",
    "               'term_360']\n",
    "\n",
    "# retrain\n",
    "rem_ebm = ExplainableBoostingClassifier(**rem_params)\n",
    "rem_ebm.fit(train[rem_x_names], train[y_name]) \n",
    "rem_ebm_perf = ROC(rem_ebm.predict_proba).explain_perf(valid[rem_x_names], valid[y_name])\n",
    "rem_auc = rem_ebm_perf._internal_obj['overall']['auc']\n",
    "print('Remediated EBM retrained with AUC: %.4f.' % rem_auc)"
   ]
  },
  {
   "cell_type": "markdown",
   "metadata": {},
   "source": [
    "## Model Extraction Attack"
   ]
  },
  {
   "cell_type": "markdown",
   "metadata": {},
   "source": [
    "#### Generate synthetic data for extraction attack"
   ]
  },
  {
   "cell_type": "markdown",
   "metadata": {},
   "source": [
    "For an API or model to be usable by customers or others, the system documentation must contain basic information about expected input variables. Between that information, domain knowledge, and publicly available information, an attacker can make a good guess at what the input data should look like."
   ]
  },
  {
   "cell_type": "code",
   "execution_count": 10,
   "metadata": {},
   "outputs": [],
   "source": [
    "# best guess at feature distributions\n",
    "schema_dict = {'term_360':                     {'p': 0.9, 'dist': 'binomial'},\n",
    "               'conforming':                   {'p': 0.9, 'dist': 'binomial'},\n",
    "               'no_intro_rate_period_std':     {'p': 0.1, 'dist': 'binomial'},\n",
    "               'loan_amount_std':              {'min': -5, 'scale': 10, 'dist': 'exponential'}, \n",
    "               'intro_rate_period_std':        {'min': 0, 'scale': 2, 'dist': 'exponential'},  \n",
    "               'property_value_std':           {'min': -5, 'scale': 5, 'dist': 'exponential'},\n",
    "               'income_std':                   {'min': -5, 'scale': 25, 'dist': 'exponential'},\n",
    "               'debt_to_income_ratio_std':     {'mean': 1, 'scale': 1, 'dist': 'normal'}}\n",
    "\n",
    "N = 10000 # rows of simulated data\n",
    "\n",
    "random_frame = pd.DataFrame(columns=list(schema_dict.keys())) # init empty frame\n",
    "                            \n",
    "np.random.seed(SEED) # same results each time cell is run    \n",
    "    \n",
    "for j in list(schema_dict.keys()): # loop through features\n",
    "    \n",
    "    # simulate normal features\n",
    "    if schema_dict[j]['dist'] == 'normal':\n",
    "        random_frame[j] = np.random.normal(loc=schema_dict[j]['mean'],\n",
    "                                           scale=schema_dict[j]['scale'], \n",
    "                                           size=N)\n",
    "    \n",
    "    # simulate expontential features\n",
    "    if schema_dict[j]['dist'] == 'exponential':\n",
    "        random_frame[j] = schema_dict[j]['min'] + np.random.exponential(scale=schema_dict[j]['scale'], \n",
    "                                                                        size=N)\n",
    "        \n",
    "    # simulate binomial features\n",
    "    if schema_dict[j]['dist'] == 'binomial':\n",
    "        random_frame[j] = np.random.binomial(1, schema_dict[j]['p'], N)\n",
    "        \n",
    "# make up for no_intro_rate_period_std scale shift\n",
    "random_frame['no_intro_rate_period_std'] = -4 * random_frame['no_intro_rate_period_std'] "
   ]
  },
  {
   "cell_type": "markdown",
   "metadata": {},
   "source": [
    "#### Visualize simulated data"
   ]
  },
  {
   "cell_type": "code",
   "execution_count": 11,
   "metadata": {},
   "outputs": [
    {
     "data": {
      "image/png": "[encoded data removed]",
      "text/plain": [
       "<Figure size 1080x1080 with 9 Axes>"
      ]
     },
     "metadata": {
      "needs_background": "light"
     },
     "output_type": "display_data"
    }
   ],
   "source": [
    "_ = random_frame[rem_x_names].hist(bins=50, figsize=(15, 15))"
   ]
  },
  {
   "cell_type": "markdown",
   "metadata": {},
   "source": [
    "#### irst call to blackbox model for predictions on random data"
   ]
  },
  {
   "cell_type": "code",
   "execution_count": 12,
   "metadata": {},
   "outputs": [
    {
     "data": {
      "text/html": [
       "<div>\n",
       "<style scoped>\n",
       "    .dataframe tbody tr th:only-of-type {\n",
       "        vertical-align: middle;\n",
       "    }\n",
       "\n",
       "    .dataframe tbody tr th {\n",
       "        vertical-align: top;\n",
       "    }\n",
       "\n",
       "    .dataframe thead th {\n",
       "        text-align: right;\n",
       "    }\n",
       "</style>\n",
       "<table border=\"1\" class=\"dataframe\">\n",
       "  <thead>\n",
       "    <tr style=\"text-align: right;\">\n",
       "      <th></th>\n",
       "      <th>term_360</th>\n",
       "      <th>conforming</th>\n",
       "      <th>no_intro_rate_period_std</th>\n",
       "      <th>loan_amount_std</th>\n",
       "      <th>intro_rate_period_std</th>\n",
       "      <th>property_value_std</th>\n",
       "      <th>income_std</th>\n",
       "      <th>debt_to_income_ratio_std</th>\n",
       "      <th>phat</th>\n",
       "    </tr>\n",
       "  </thead>\n",
       "  <tbody>\n",
       "    <tr>\n",
       "      <th>0</th>\n",
       "      <td>0</td>\n",
       "      <td>1</td>\n",
       "      <td>0</td>\n",
       "      <td>7.848707</td>\n",
       "      <td>2.018107</td>\n",
       "      <td>4.448038</td>\n",
       "      <td>7.560986</td>\n",
       "      <td>2.346077</td>\n",
       "      <td>0.049249</td>\n",
       "    </tr>\n",
       "    <tr>\n",
       "      <th>1</th>\n",
       "      <td>1</td>\n",
       "      <td>1</td>\n",
       "      <td>-4</td>\n",
       "      <td>49.480298</td>\n",
       "      <td>1.029955</td>\n",
       "      <td>4.580346</td>\n",
       "      <td>-1.530707</td>\n",
       "      <td>0.239296</td>\n",
       "      <td>0.030606</td>\n",
       "    </tr>\n",
       "    <tr>\n",
       "      <th>2</th>\n",
       "      <td>1</td>\n",
       "      <td>1</td>\n",
       "      <td>0</td>\n",
       "      <td>0.014153</td>\n",
       "      <td>2.853882</td>\n",
       "      <td>8.899881</td>\n",
       "      <td>13.705550</td>\n",
       "      <td>0.639075</td>\n",
       "      <td>0.017583</td>\n",
       "    </tr>\n",
       "    <tr>\n",
       "      <th>3</th>\n",
       "      <td>1</td>\n",
       "      <td>1</td>\n",
       "      <td>0</td>\n",
       "      <td>7.912400</td>\n",
       "      <td>0.248822</td>\n",
       "      <td>8.887287</td>\n",
       "      <td>1.895881</td>\n",
       "      <td>0.087230</td>\n",
       "      <td>0.017438</td>\n",
       "    </tr>\n",
       "    <tr>\n",
       "      <th>4</th>\n",
       "      <td>1</td>\n",
       "      <td>1</td>\n",
       "      <td>0</td>\n",
       "      <td>-4.538403</td>\n",
       "      <td>1.796115</td>\n",
       "      <td>-2.252657</td>\n",
       "      <td>27.529353</td>\n",
       "      <td>1.263036</td>\n",
       "      <td>0.226091</td>\n",
       "    </tr>\n",
       "  </tbody>\n",
       "</table>\n",
       "</div>"
      ],
      "text/plain": [
       "   term_360  conforming  no_intro_rate_period_std  loan_amount_std  \\\n",
       "0         0           1                         0         7.848707   \n",
       "1         1           1                        -4        49.480298   \n",
       "2         1           1                         0         0.014153   \n",
       "3         1           1                         0         7.912400   \n",
       "4         1           1                         0        -4.538403   \n",
       "\n",
       "   intro_rate_period_std  property_value_std  income_std  \\\n",
       "0               2.018107            4.448038    7.560986   \n",
       "1               1.029955            4.580346   -1.530707   \n",
       "2               2.853882            8.899881   13.705550   \n",
       "3               0.248822            8.887287    1.895881   \n",
       "4               1.796115           -2.252657   27.529353   \n",
       "\n",
       "   debt_to_income_ratio_std      phat  \n",
       "0                  2.346077  0.049249  \n",
       "1                  0.239296  0.030606  \n",
       "2                  0.639075  0.017583  \n",
       "3                  0.087230  0.017438  \n",
       "4                  1.263036  0.226091  "
      ]
     },
     "execution_count": 12,
     "metadata": {},
     "output_type": "execute_result"
    }
   ],
   "source": [
    "blackbox_phat = pd.DataFrame(rem_ebm.predict_proba(random_frame[rem_x_names])[:, 1], columns=['phat']) \n",
    "blackbox_phat = pd.concat([random_frame.reset_index(drop=True), blackbox_phat], axis=1)\n",
    "blackbox_phat.head()"
   ]
  },
  {
   "cell_type": "markdown",
   "metadata": {},
   "source": [
    "#### Extract a stolen decision tree model"
   ]
  },
  {
   "cell_type": "code",
   "execution_count": 13,
   "metadata": {},
   "outputs": [
    {
     "name": "stdout",
     "output_type": "stream",
     "text": [
      "Generated MOJO path:\n",
      " /Users/melisdiken/Desktop/Summer 2022 ML /Assignment_4/stolen_dt2.zip\n",
      "Discovered H2O jar path:\n",
      " /Users/melisdiken/opt/anaconda3/envs/myenv2/lib/python3.6/site-packages/h2o/backend/bin/h2o.jar\n",
      "\n",
      "Calling external process ...\n",
      "java -cp /Users/melisdiken/opt/anaconda3/envs/myenv2/lib/python3.6/site-packages/h2o/backend/bin/h2o.jar hex.genmodel.tools.PrintMojo --tree 0 -i /Users/melisdiken/Desktop/Summer 2022 ML /Assignment_4/stolen_dt2.zip -o stolen_dt2.gv --title \"Stolen Model\"\n",
      "Calling external process ...\n",
      "dot -Tpng stolen_dt2.gv -o stolen_dt2.png\n"
     ]
    }
   ],
   "source": [
    "stolen_dt = get_cv_dt(list(schema_dict.keys()),\n",
    "                      'phat',\n",
    "                      blackbox_phat,\n",
    "                      'stolen_dt2', \n",
    "                      SEED, \n",
    "                      'Stolen Model')\n"
   ]
  },
  {
   "cell_type": "markdown",
   "metadata": {},
   "source": [
    "#### View stolen model"
   ]
  },
  {
   "cell_type": "code",
   "execution_count": 14,
   "metadata": {},
   "outputs": [
    {
     "data": {
      "image/png": "[encoded data removed]",
      "text/plain": [
       "<IPython.core.display.Image object>"
      ]
     },
     "metadata": {},
     "output_type": "display_data"
    }
   ],
   "source": [
    "display(Image(('stolen_dt2.png')))"
   ]
  },
  {
   "cell_type": "markdown",
   "metadata": {},
   "source": [
    "#### Variable importance for stolen model"
   ]
  },
  {
   "cell_type": "code",
   "execution_count": 15,
   "metadata": {},
   "outputs": [
    {
     "data": {
      "image/png": "[encoded data removed]",
      "text/plain": [
       "<Figure size 1008x720 with 1 Axes>"
      ]
     },
     "metadata": {
      "needs_background": "light"
     },
     "output_type": "display_data"
    },
    {
     "data": {
      "text/plain": [
       "<h2o.plot._plot_result._MObject at 0x7ff62b092cc0>"
      ]
     },
     "execution_count": 15,
     "metadata": {},
     "output_type": "execute_result"
    },
    {
     "data": {
      "text/plain": [
       "<Figure size 432x288 with 0 Axes>"
      ]
     },
     "metadata": {},
     "output_type": "display_data"
    }
   ],
   "source": [
    "stolen_dt.varimp_plot()"
   ]
  },
  {
   "cell_type": "markdown",
   "metadata": {},
   "source": [
    "These are the most important variables in the stolen model, and likely in the real model too."
   ]
  },
  {
   "cell_type": "markdown",
   "metadata": {},
   "source": [
    "#### Assess accuracy of stolen model"
   ]
  },
  {
   "cell_type": "code",
   "execution_count": 16,
   "metadata": {},
   "outputs": [
    {
     "name": "stdout",
     "output_type": "stream",
     "text": [
      "\n",
      "Cross-Validation Metrics Summary: \n"
     ]
    },
    {
     "data": {
      "text/html": [
       "<div>\n",
       "<style scoped>\n",
       "    .dataframe tbody tr th:only-of-type {\n",
       "        vertical-align: middle;\n",
       "    }\n",
       "\n",
       "    .dataframe tbody tr th {\n",
       "        vertical-align: top;\n",
       "    }\n",
       "\n",
       "    .dataframe thead th {\n",
       "        text-align: right;\n",
       "    }\n",
       "</style>\n",
       "<table border=\"1\" class=\"dataframe\">\n",
       "  <thead>\n",
       "    <tr style=\"text-align: right;\">\n",
       "      <th></th>\n",
       "      <th></th>\n",
       "      <th>mean</th>\n",
       "      <th>sd</th>\n",
       "      <th>cv_1_valid</th>\n",
       "      <th>cv_2_valid</th>\n",
       "      <th>cv_3_valid</th>\n",
       "    </tr>\n",
       "  </thead>\n",
       "  <tbody>\n",
       "    <tr>\n",
       "      <th>0</th>\n",
       "      <td>mae</td>\n",
       "      <td>0.039393</td>\n",
       "      <td>0.001217</td>\n",
       "      <td>0.040761</td>\n",
       "      <td>0.038432</td>\n",
       "      <td>0.038987</td>\n",
       "    </tr>\n",
       "    <tr>\n",
       "      <th>1</th>\n",
       "      <td>mean_residual_deviance</td>\n",
       "      <td>0.004201</td>\n",
       "      <td>0.000095</td>\n",
       "      <td>0.004310</td>\n",
       "      <td>0.004134</td>\n",
       "      <td>0.004161</td>\n",
       "    </tr>\n",
       "    <tr>\n",
       "      <th>2</th>\n",
       "      <td>mse</td>\n",
       "      <td>0.004201</td>\n",
       "      <td>0.000095</td>\n",
       "      <td>0.004310</td>\n",
       "      <td>0.004134</td>\n",
       "      <td>0.004161</td>\n",
       "    </tr>\n",
       "    <tr>\n",
       "      <th>3</th>\n",
       "      <td>r2</td>\n",
       "      <td>0.797474</td>\n",
       "      <td>0.003560</td>\n",
       "      <td>0.795017</td>\n",
       "      <td>0.795847</td>\n",
       "      <td>0.801557</td>\n",
       "    </tr>\n",
       "    <tr>\n",
       "      <th>4</th>\n",
       "      <td>residual_deviance</td>\n",
       "      <td>0.004201</td>\n",
       "      <td>0.000095</td>\n",
       "      <td>0.004310</td>\n",
       "      <td>0.004134</td>\n",
       "      <td>0.004161</td>\n",
       "    </tr>\n",
       "    <tr>\n",
       "      <th>5</th>\n",
       "      <td>rmse</td>\n",
       "      <td>0.064815</td>\n",
       "      <td>0.000728</td>\n",
       "      <td>0.065647</td>\n",
       "      <td>0.064295</td>\n",
       "      <td>0.064503</td>\n",
       "    </tr>\n",
       "    <tr>\n",
       "      <th>6</th>\n",
       "      <td>rmsle</td>\n",
       "      <td>0.051551</td>\n",
       "      <td>0.000840</td>\n",
       "      <td>0.052521</td>\n",
       "      <td>0.051057</td>\n",
       "      <td>0.051074</td>\n",
       "    </tr>\n",
       "  </tbody>\n",
       "</table>\n",
       "</div>"
      ],
      "text/plain": [
       "                               mean        sd  cv_1_valid  cv_2_valid  \\\n",
       "0                     mae  0.039393  0.001217    0.040761    0.038432   \n",
       "1  mean_residual_deviance  0.004201  0.000095    0.004310    0.004134   \n",
       "2                     mse  0.004201  0.000095    0.004310    0.004134   \n",
       "3                      r2  0.797474  0.003560    0.795017    0.795847   \n",
       "4       residual_deviance  0.004201  0.000095    0.004310    0.004134   \n",
       "5                    rmse  0.064815  0.000728    0.065647    0.064295   \n",
       "6                   rmsle  0.051551  0.000840    0.052521    0.051057   \n",
       "\n",
       "   cv_3_valid  \n",
       "0    0.038987  \n",
       "1    0.004161  \n",
       "2    0.004161  \n",
       "3    0.801557  \n",
       "4    0.004161  \n",
       "5    0.064503  \n",
       "6    0.051074  "
      ]
     },
     "metadata": {},
     "output_type": "display_data"
    },
    {
     "data": {
      "text/plain": []
     },
     "execution_count": 16,
     "metadata": {},
     "output_type": "execute_result"
    }
   ],
   "source": [
    "stolen_dt.cross_validation_metrics_summary() # h2o makes cv evaluation metrics available"
   ]
  },
  {
   "cell_type": "markdown",
   "metadata": {},
   "source": [
    "### Use Stolen Model to Craft Adversarial Examples"
   ]
  },
  {
   "cell_type": "markdown",
   "metadata": {},
   "source": [
    "#### Use stolen model to find seed rows for adversary searches"
   ]
  },
  {
   "cell_type": "code",
   "execution_count": 17,
   "metadata": {},
   "outputs": [
    {
     "name": "stdout",
     "output_type": "stream",
     "text": [
      "Low adversarial example search seed row:\n",
      "term_360                     0.907483\n",
      "conforming                   0.895238\n",
      "no_intro_rate_period_std    -0.451701\n",
      "loan_amount_std              4.783837\n",
      "intro_rate_period_std        4.258209\n",
      "property_value_std           5.130546\n",
      "income_std                  19.885581\n",
      "debt_to_income_ratio_std     0.371789\n",
      "dtype: float64\n",
      "\n",
      "High adversarial example search seed row:\n",
      "term_360                     1.000000\n",
      "conforming                   0.889458\n",
      "no_intro_rate_period_std    -0.412884\n",
      "loan_amount_std              5.247810\n",
      "intro_rate_period_std        0.924390\n",
      "property_value_std          -3.060196\n",
      "income_std                  19.735920\n",
      "debt_to_income_ratio_std     1.995180\n",
      "dtype: float64\n"
     ]
    }
   ],
   "source": [
    "low_adversary_seed = random_frame.loc[(random_frame['property_value_std'] >= -0.058) &\n",
    "                                      (random_frame['debt_to_income_ratio_std'] < 1.308) & \n",
    "                                      (random_frame['intro_rate_period_std'] >= 2.375), :].mean()\n",
    "print('Low adversarial example search seed row:')\n",
    "print(low_adversary_seed)\n",
    "print()\n",
    "\n",
    "high_adversary_seed = random_frame.loc[(random_frame['property_value_std'] < -0.647) & \n",
    "                                       (random_frame['intro_rate_period_std'] < 2.28) & \n",
    "                                       (random_frame['debt_to_income_ratio_std'] >= 1.3) & \n",
    "                                       (random_frame['term_360'] >= 0.5), :].mean()\n",
    "print('High adversarial example search seed row:')\n",
    "print(high_adversary_seed)"
   ]
  },
  {
   "cell_type": "markdown",
   "metadata": {},
   "source": [
    "#### Perturb seed row to find low scoring adversarial examples"
   ]
  },
  {
   "cell_type": "code",
   "execution_count": 18,
   "metadata": {},
   "outputs": [
    {
     "data": {
      "text/html": [
       "<div>\n",
       "<style scoped>\n",
       "    .dataframe tbody tr th:only-of-type {\n",
       "        vertical-align: middle;\n",
       "    }\n",
       "\n",
       "    .dataframe tbody tr th {\n",
       "        vertical-align: top;\n",
       "    }\n",
       "\n",
       "    .dataframe thead th {\n",
       "        text-align: right;\n",
       "    }\n",
       "</style>\n",
       "<table border=\"1\" class=\"dataframe\">\n",
       "  <thead>\n",
       "    <tr style=\"text-align: right;\">\n",
       "      <th></th>\n",
       "      <th>term_360</th>\n",
       "      <th>conforming</th>\n",
       "      <th>no_intro_rate_period_std</th>\n",
       "      <th>loan_amount_std</th>\n",
       "      <th>intro_rate_period_std</th>\n",
       "      <th>property_value_std</th>\n",
       "      <th>income_std</th>\n",
       "      <th>debt_to_income_ratio_std</th>\n",
       "    </tr>\n",
       "  </thead>\n",
       "  <tbody>\n",
       "    <tr>\n",
       "      <th>0</th>\n",
       "      <td>0.0</td>\n",
       "      <td>0.895238</td>\n",
       "      <td>-0.451701</td>\n",
       "      <td>4.783837</td>\n",
       "      <td>9.06958</td>\n",
       "      <td>18.545693</td>\n",
       "      <td>19.885581</td>\n",
       "      <td>-1.29433</td>\n",
       "    </tr>\n",
       "    <tr>\n",
       "      <th>1</th>\n",
       "      <td>0.0</td>\n",
       "      <td>0.895238</td>\n",
       "      <td>-0.451701</td>\n",
       "      <td>4.783837</td>\n",
       "      <td>9.06958</td>\n",
       "      <td>18.545693</td>\n",
       "      <td>19.885581</td>\n",
       "      <td>-1.29433</td>\n",
       "    </tr>\n",
       "    <tr>\n",
       "      <th>2</th>\n",
       "      <td>0.0</td>\n",
       "      <td>0.895238</td>\n",
       "      <td>-0.451701</td>\n",
       "      <td>4.783837</td>\n",
       "      <td>9.06958</td>\n",
       "      <td>18.545693</td>\n",
       "      <td>19.885581</td>\n",
       "      <td>-1.29433</td>\n",
       "    </tr>\n",
       "    <tr>\n",
       "      <th>3</th>\n",
       "      <td>1.0</td>\n",
       "      <td>0.895238</td>\n",
       "      <td>-0.451701</td>\n",
       "      <td>4.783837</td>\n",
       "      <td>9.06958</td>\n",
       "      <td>18.545693</td>\n",
       "      <td>19.885581</td>\n",
       "      <td>-1.29433</td>\n",
       "    </tr>\n",
       "    <tr>\n",
       "      <th>4</th>\n",
       "      <td>1.0</td>\n",
       "      <td>0.895238</td>\n",
       "      <td>-0.451701</td>\n",
       "      <td>4.783837</td>\n",
       "      <td>9.06958</td>\n",
       "      <td>18.545693</td>\n",
       "      <td>19.885581</td>\n",
       "      <td>-1.29433</td>\n",
       "    </tr>\n",
       "  </tbody>\n",
       "</table>\n",
       "</div>"
      ],
      "text/plain": [
       "   term_360  conforming  no_intro_rate_period_std  loan_amount_std  \\\n",
       "0       0.0    0.895238                 -0.451701         4.783837   \n",
       "1       0.0    0.895238                 -0.451701         4.783837   \n",
       "2       0.0    0.895238                 -0.451701         4.783837   \n",
       "3       1.0    0.895238                 -0.451701         4.783837   \n",
       "4       1.0    0.895238                 -0.451701         4.783837   \n",
       "\n",
       "   intro_rate_period_std  property_value_std  income_std  \\\n",
       "0                9.06958           18.545693   19.885581   \n",
       "1                9.06958           18.545693   19.885581   \n",
       "2                9.06958           18.545693   19.885581   \n",
       "3                9.06958           18.545693   19.885581   \n",
       "4                9.06958           18.545693   19.885581   \n",
       "\n",
       "   debt_to_income_ratio_std  \n",
       "0                  -1.29433  \n",
       "1                  -1.29433  \n",
       "2                  -1.29433  \n",
       "3                  -1.29433  \n",
       "4                  -1.29433  "
      ]
     },
     "execution_count": 18,
     "metadata": {},
     "output_type": "execute_result"
    }
   ],
   "source": [
    "# init results frames\n",
    "low_adversary_frame = pd.DataFrame(columns=list(schema_dict.keys())) \n",
    "\n",
    "# quantiles over which to search \n",
    "low_quantiles = [0.01, 0.05, 0.1, 0.25, 0.5] \n",
    "high_quantiles = [0.99, 0.95, 0.9, 0.75, 0.5]\n",
    "\n",
    "# generate potential adversarial examples across four important features\n",
    "# using values of each feature and seeded by information from stolen tree\n",
    "for a in list(random_frame['property_value_std'].quantile(high_quantiles)): \n",
    "        for b in list(random_frame['intro_rate_period_std'].quantile(high_quantiles)):\n",
    "            for c in list(random_frame['debt_to_income_ratio_std'].quantile(low_quantiles)):\n",
    "                for d in list(random_frame['term_360'].quantile(low_quantiles)):\n",
    "                    low_adversary_seed['property_value_std'] = a\n",
    "                    low_adversary_seed['intro_rate_period_std'] = b\n",
    "                    low_adversary_seed['debt_to_income_ratio_std'] = c\n",
    "                    low_adversary_seed['term_360'] = d\n",
    "                    low_adversary_frame = low_adversary_frame.append(low_adversary_seed, \n",
    "                                                                     ignore_index=True, sort=False)\n",
    "                    \n",
    "# view potential low scoring adversarial examples\n",
    "low_adversary_frame.head()"
   ]
  },
  {
   "cell_type": "markdown",
   "metadata": {},
   "source": [
    "#### Perturb seed row to find high scoring adversarial examples"
   ]
  },
  {
   "cell_type": "code",
   "execution_count": 19,
   "metadata": {},
   "outputs": [
    {
     "data": {
      "text/html": [
       "<div>\n",
       "<style scoped>\n",
       "    .dataframe tbody tr th:only-of-type {\n",
       "        vertical-align: middle;\n",
       "    }\n",
       "\n",
       "    .dataframe tbody tr th {\n",
       "        vertical-align: top;\n",
       "    }\n",
       "\n",
       "    .dataframe thead th {\n",
       "        text-align: right;\n",
       "    }\n",
       "</style>\n",
       "<table border=\"1\" class=\"dataframe\">\n",
       "  <thead>\n",
       "    <tr style=\"text-align: right;\">\n",
       "      <th></th>\n",
       "      <th>term_360</th>\n",
       "      <th>conforming</th>\n",
       "      <th>no_intro_rate_period_std</th>\n",
       "      <th>loan_amount_std</th>\n",
       "      <th>intro_rate_period_std</th>\n",
       "      <th>property_value_std</th>\n",
       "      <th>income_std</th>\n",
       "      <th>debt_to_income_ratio_std</th>\n",
       "    </tr>\n",
       "  </thead>\n",
       "  <tbody>\n",
       "    <tr>\n",
       "      <th>0</th>\n",
       "      <td>1.0</td>\n",
       "      <td>0.889458</td>\n",
       "      <td>-0.412884</td>\n",
       "      <td>5.24781</td>\n",
       "      <td>0.018175</td>\n",
       "      <td>-4.946902</td>\n",
       "      <td>19.73592</td>\n",
       "      <td>3.322541</td>\n",
       "    </tr>\n",
       "    <tr>\n",
       "      <th>1</th>\n",
       "      <td>1.0</td>\n",
       "      <td>0.889458</td>\n",
       "      <td>-0.412884</td>\n",
       "      <td>5.24781</td>\n",
       "      <td>0.018175</td>\n",
       "      <td>-4.946902</td>\n",
       "      <td>19.73592</td>\n",
       "      <td>3.322541</td>\n",
       "    </tr>\n",
       "    <tr>\n",
       "      <th>2</th>\n",
       "      <td>1.0</td>\n",
       "      <td>0.889458</td>\n",
       "      <td>-0.412884</td>\n",
       "      <td>5.24781</td>\n",
       "      <td>0.018175</td>\n",
       "      <td>-4.946902</td>\n",
       "      <td>19.73592</td>\n",
       "      <td>3.322541</td>\n",
       "    </tr>\n",
       "    <tr>\n",
       "      <th>3</th>\n",
       "      <td>1.0</td>\n",
       "      <td>0.889458</td>\n",
       "      <td>-0.412884</td>\n",
       "      <td>5.24781</td>\n",
       "      <td>0.018175</td>\n",
       "      <td>-4.946902</td>\n",
       "      <td>19.73592</td>\n",
       "      <td>3.322541</td>\n",
       "    </tr>\n",
       "    <tr>\n",
       "      <th>4</th>\n",
       "      <td>1.0</td>\n",
       "      <td>0.889458</td>\n",
       "      <td>-0.412884</td>\n",
       "      <td>5.24781</td>\n",
       "      <td>0.018175</td>\n",
       "      <td>-4.946902</td>\n",
       "      <td>19.73592</td>\n",
       "      <td>3.322541</td>\n",
       "    </tr>\n",
       "  </tbody>\n",
       "</table>\n",
       "</div>"
      ],
      "text/plain": [
       "   term_360  conforming  no_intro_rate_period_std  loan_amount_std  \\\n",
       "0       1.0    0.889458                 -0.412884          5.24781   \n",
       "1       1.0    0.889458                 -0.412884          5.24781   \n",
       "2       1.0    0.889458                 -0.412884          5.24781   \n",
       "3       1.0    0.889458                 -0.412884          5.24781   \n",
       "4       1.0    0.889458                 -0.412884          5.24781   \n",
       "\n",
       "   intro_rate_period_std  property_value_std  income_std  \\\n",
       "0               0.018175           -4.946902    19.73592   \n",
       "1               0.018175           -4.946902    19.73592   \n",
       "2               0.018175           -4.946902    19.73592   \n",
       "3               0.018175           -4.946902    19.73592   \n",
       "4               0.018175           -4.946902    19.73592   \n",
       "\n",
       "   debt_to_income_ratio_std  \n",
       "0                  3.322541  \n",
       "1                  3.322541  \n",
       "2                  3.322541  \n",
       "3                  3.322541  \n",
       "4                  3.322541  "
      ]
     },
     "execution_count": 19,
     "metadata": {},
     "output_type": "execute_result"
    }
   ],
   "source": [
    "# init results frames\n",
    "high_adversary_frame = pd.DataFrame(columns=list(schema_dict.keys())) \n",
    "\n",
    "# generate potential adversarial examples across four important features\n",
    "# using values of each feature and seeded by information from stolen tree\n",
    "for a in list(random_frame['property_value_std'].quantile(low_quantiles)): \n",
    "        for b in list(random_frame['intro_rate_period_std'].quantile(low_quantiles)):\n",
    "            for c in list(random_frame['debt_to_income_ratio_std'].quantile(high_quantiles)):\n",
    "                for d in list(random_frame['term_360'].quantile(high_quantiles)):\n",
    "                    high_adversary_seed['property_value_std'] = a\n",
    "                    high_adversary_seed['intro_rate_period_std'] = b\n",
    "                    high_adversary_seed['debt_to_income_ratio_std'] = c\n",
    "                    high_adversary_seed['term_360'] = d\n",
    "                    high_adversary_frame = high_adversary_frame.append(high_adversary_seed, \n",
    "                                                                       ignore_index=True, sort=False)\n",
    "                    \n",
    "# view potential high scoring adversarial examples\n",
    "high_adversary_frame.head()"
   ]
  },
  {
   "cell_type": "markdown",
   "metadata": {},
   "source": [
    "#### Second call to blackbox API to test adversarial examples"
   ]
  },
  {
   "cell_type": "code",
   "execution_count": 20,
   "metadata": {},
   "outputs": [
    {
     "data": {
      "text/html": [
       "<div>\n",
       "<style scoped>\n",
       "    .dataframe tbody tr th:only-of-type {\n",
       "        vertical-align: middle;\n",
       "    }\n",
       "\n",
       "    .dataframe tbody tr th {\n",
       "        vertical-align: top;\n",
       "    }\n",
       "\n",
       "    .dataframe thead th {\n",
       "        text-align: right;\n",
       "    }\n",
       "</style>\n",
       "<table border=\"1\" class=\"dataframe\">\n",
       "  <thead>\n",
       "    <tr style=\"text-align: right;\">\n",
       "      <th></th>\n",
       "      <th>term_360</th>\n",
       "      <th>conforming</th>\n",
       "      <th>no_intro_rate_period_std</th>\n",
       "      <th>loan_amount_std</th>\n",
       "      <th>intro_rate_period_std</th>\n",
       "      <th>property_value_std</th>\n",
       "      <th>income_std</th>\n",
       "      <th>debt_to_income_ratio_std</th>\n",
       "      <th>phat</th>\n",
       "    </tr>\n",
       "  </thead>\n",
       "  <tbody>\n",
       "    <tr>\n",
       "      <th>0</th>\n",
       "      <td>0.0</td>\n",
       "      <td>0.895238</td>\n",
       "      <td>-0.451701</td>\n",
       "      <td>4.783837</td>\n",
       "      <td>9.069580</td>\n",
       "      <td>18.545693</td>\n",
       "      <td>19.885581</td>\n",
       "      <td>-1.294330</td>\n",
       "      <td>0.000087</td>\n",
       "    </tr>\n",
       "    <tr>\n",
       "      <th>127</th>\n",
       "      <td>0.0</td>\n",
       "      <td>0.895238</td>\n",
       "      <td>-0.451701</td>\n",
       "      <td>4.783837</td>\n",
       "      <td>9.069580</td>\n",
       "      <td>10.011155</td>\n",
       "      <td>19.885581</td>\n",
       "      <td>-1.294330</td>\n",
       "      <td>0.000087</td>\n",
       "    </tr>\n",
       "    <tr>\n",
       "      <th>126</th>\n",
       "      <td>0.0</td>\n",
       "      <td>0.895238</td>\n",
       "      <td>-0.451701</td>\n",
       "      <td>4.783837</td>\n",
       "      <td>9.069580</td>\n",
       "      <td>10.011155</td>\n",
       "      <td>19.885581</td>\n",
       "      <td>-1.294330</td>\n",
       "      <td>0.000087</td>\n",
       "    </tr>\n",
       "    <tr>\n",
       "      <th>252</th>\n",
       "      <td>0.0</td>\n",
       "      <td>0.895238</td>\n",
       "      <td>-0.451701</td>\n",
       "      <td>4.783837</td>\n",
       "      <td>9.069580</td>\n",
       "      <td>6.584122</td>\n",
       "      <td>19.885581</td>\n",
       "      <td>-1.294330</td>\n",
       "      <td>0.000087</td>\n",
       "    </tr>\n",
       "    <tr>\n",
       "      <th>251</th>\n",
       "      <td>0.0</td>\n",
       "      <td>0.895238</td>\n",
       "      <td>-0.451701</td>\n",
       "      <td>4.783837</td>\n",
       "      <td>9.069580</td>\n",
       "      <td>6.584122</td>\n",
       "      <td>19.885581</td>\n",
       "      <td>-1.294330</td>\n",
       "      <td>0.000087</td>\n",
       "    </tr>\n",
       "    <tr>\n",
       "      <th>...</th>\n",
       "      <td>...</td>\n",
       "      <td>...</td>\n",
       "      <td>...</td>\n",
       "      <td>...</td>\n",
       "      <td>...</td>\n",
       "      <td>...</td>\n",
       "      <td>...</td>\n",
       "      <td>...</td>\n",
       "      <td>...</td>\n",
       "    </tr>\n",
       "    <tr>\n",
       "      <th>1033</th>\n",
       "      <td>1.0</td>\n",
       "      <td>0.889458</td>\n",
       "      <td>-0.412884</td>\n",
       "      <td>5.247810</td>\n",
       "      <td>0.104831</td>\n",
       "      <td>-3.549113</td>\n",
       "      <td>19.735920</td>\n",
       "      <td>2.644875</td>\n",
       "      <td>0.373078</td>\n",
       "    </tr>\n",
       "    <tr>\n",
       "      <th>1032</th>\n",
       "      <td>1.0</td>\n",
       "      <td>0.889458</td>\n",
       "      <td>-0.412884</td>\n",
       "      <td>5.247810</td>\n",
       "      <td>0.104831</td>\n",
       "      <td>-3.549113</td>\n",
       "      <td>19.735920</td>\n",
       "      <td>2.644875</td>\n",
       "      <td>0.373078</td>\n",
       "    </tr>\n",
       "    <tr>\n",
       "      <th>1031</th>\n",
       "      <td>1.0</td>\n",
       "      <td>0.889458</td>\n",
       "      <td>-0.412884</td>\n",
       "      <td>5.247810</td>\n",
       "      <td>0.104831</td>\n",
       "      <td>-3.549113</td>\n",
       "      <td>19.735920</td>\n",
       "      <td>2.644875</td>\n",
       "      <td>0.373078</td>\n",
       "    </tr>\n",
       "    <tr>\n",
       "      <th>1038</th>\n",
       "      <td>1.0</td>\n",
       "      <td>0.889458</td>\n",
       "      <td>-0.412884</td>\n",
       "      <td>5.247810</td>\n",
       "      <td>0.104831</td>\n",
       "      <td>-3.549113</td>\n",
       "      <td>19.735920</td>\n",
       "      <td>2.325711</td>\n",
       "      <td>0.373078</td>\n",
       "    </tr>\n",
       "    <tr>\n",
       "      <th>1085</th>\n",
       "      <td>1.0</td>\n",
       "      <td>0.889458</td>\n",
       "      <td>-0.412884</td>\n",
       "      <td>5.247810</td>\n",
       "      <td>0.561665</td>\n",
       "      <td>-3.549113</td>\n",
       "      <td>19.735920</td>\n",
       "      <td>2.325711</td>\n",
       "      <td>0.373078</td>\n",
       "    </tr>\n",
       "  </tbody>\n",
       "</table>\n",
       "<p>1250 rows × 9 columns</p>\n",
       "</div>"
      ],
      "text/plain": [
       "      term_360  conforming  no_intro_rate_period_std  loan_amount_std  \\\n",
       "0          0.0    0.895238                 -0.451701         4.783837   \n",
       "127        0.0    0.895238                 -0.451701         4.783837   \n",
       "126        0.0    0.895238                 -0.451701         4.783837   \n",
       "252        0.0    0.895238                 -0.451701         4.783837   \n",
       "251        0.0    0.895238                 -0.451701         4.783837   \n",
       "...        ...         ...                       ...              ...   \n",
       "1033       1.0    0.889458                 -0.412884         5.247810   \n",
       "1032       1.0    0.889458                 -0.412884         5.247810   \n",
       "1031       1.0    0.889458                 -0.412884         5.247810   \n",
       "1038       1.0    0.889458                 -0.412884         5.247810   \n",
       "1085       1.0    0.889458                 -0.412884         5.247810   \n",
       "\n",
       "      intro_rate_period_std  property_value_std  income_std  \\\n",
       "0                  9.069580           18.545693   19.885581   \n",
       "127                9.069580           10.011155   19.885581   \n",
       "126                9.069580           10.011155   19.885581   \n",
       "252                9.069580            6.584122   19.885581   \n",
       "251                9.069580            6.584122   19.885581   \n",
       "...                     ...                 ...         ...   \n",
       "1033               0.104831           -3.549113   19.735920   \n",
       "1032               0.104831           -3.549113   19.735920   \n",
       "1031               0.104831           -3.549113   19.735920   \n",
       "1038               0.104831           -3.549113   19.735920   \n",
       "1085               0.561665           -3.549113   19.735920   \n",
       "\n",
       "      debt_to_income_ratio_std      phat  \n",
       "0                    -1.294330  0.000087  \n",
       "127                  -1.294330  0.000087  \n",
       "126                  -1.294330  0.000087  \n",
       "252                  -1.294330  0.000087  \n",
       "251                  -1.294330  0.000087  \n",
       "...                        ...       ...  \n",
       "1033                  2.644875  0.373078  \n",
       "1032                  2.644875  0.373078  \n",
       "1031                  2.644875  0.373078  \n",
       "1038                  2.325711  0.373078  \n",
       "1085                  2.325711  0.373078  \n",
       "\n",
       "[1250 rows x 9 columns]"
      ]
     },
     "execution_count": 20,
     "metadata": {},
     "output_type": "execute_result"
    }
   ],
   "source": [
    "# combine potential adversaries so only one call to API is needed\n",
    "adversaries = pd.concat([low_adversary_frame, high_adversary_frame], axis=0)\n",
    "\n",
    "# score potential adversarial examples to understand their effect on generated predictions\n",
    "blackbox_adversaries_phat = pd.DataFrame(rem_ebm.predict_proba(adversaries[rem_x_names])[:, 1], columns=['phat']) \n",
    "blackbox_adversaries_phat = pd.concat([adversaries.reset_index(drop=True), blackbox_adversaries_phat], axis=1)\n",
    "blackbox_adversaries_phat.sort_values(by='phat')"
   ]
  },
  {
   "cell_type": "markdown",
   "metadata": {},
   "source": [
    "##### End timer"
   ]
  },
  {
   "cell_type": "code",
   "execution_count": 21,
   "metadata": {},
   "outputs": [
    {
     "name": "stdout",
     "output_type": "stream",
     "text": [
      "All tasks completed in 70.21 s.\n"
     ]
    }
   ],
   "source": [
    "toc = time.time() - tic\n",
    "print('All tasks completed in %.2f s.' % (toc))"
   ]
  },
  {
   "cell_type": "markdown",
   "metadata": {},
   "source": [
    "#### Shutdown H2O"
   ]
  },
  {
   "cell_type": "code",
   "execution_count": null,
   "metadata": {},
   "outputs": [],
   "source": [
    "h2o.cluster().shutdown(prompt=True)"
   ]
  },
  {
   "cell_type": "code",
   "execution_count": null,
   "metadata": {},
   "outputs": [],
   "source": []
  }
 ],
 "metadata": {
  "kernelspec": {
   "display_name": "myenv2",
   "language": "python",
   "name": "myenv2"
  },
  "language_info": {
   "codemirror_mode": {
    "name": "ipython",
    "version": 3
   },
   "file_extension": ".py",
   "mimetype": "text/x-python",
   "name": "python",
   "nbconvert_exporter": "python",
   "pygments_lexer": "ipython3",
   "version": "3.6.13"
  }
 },
 "nbformat": 4,
 "nbformat_minor": 4
}
